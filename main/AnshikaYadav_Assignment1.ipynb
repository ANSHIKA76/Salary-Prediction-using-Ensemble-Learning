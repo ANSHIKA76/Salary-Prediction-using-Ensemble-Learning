{
  "nbformat": 4,
  "nbformat_minor": 0,
  "metadata": {
    "colab": {
      "provenance": []
    },
    "kernelspec": {
      "name": "python3",
      "display_name": "Python 3"
    },
    "language_info": {
      "name": "python"
    }
  },
  "cells": [
    {
      "cell_type": "code",
      "execution_count": 8,
      "metadata": {
        "id": "R9CqbVMVohov"
      },
      "outputs": [],
      "source": [
        "import pandas as pd\n",
        "import numpy as np\n",
        "import matplotlib.pyplot as plt\n",
        "import seaborn as sns"
      ]
    },
    {
      "cell_type": "code",
      "source": [
        "df=pd.read_csv('/content/ipl_data.csv')"
      ],
      "metadata": {
        "id": "inElpvuspwAJ"
      },
      "execution_count": 9,
      "outputs": []
    },
    {
      "cell_type": "code",
      "source": [
        "print(df.head())\n"
      ],
      "metadata": {
        "colab": {
          "base_uri": "https://localhost:8080/"
        },
        "id": "7kRCB76nqXR3",
        "outputId": "600cf0aa-8c57-469a-dafe-08c24d8d768c"
      },
      "execution_count": 10,
      "outputs": [
        {
          "output_type": "stream",
          "name": "stdout",
          "text": [
            "   match_id           date                                         venue  \\\n",
            "0         1  March 26,2022                      Wankhede Stadium, Mumbai   \n",
            "1         2  March 27,2022                     Brabourne Stadium, Mumbai   \n",
            "2         3  March 27,2022            Dr DY Patil Sports Academy, Mumbai   \n",
            "3         4  March 28,2022                      Wankhede Stadium, Mumbai   \n",
            "4         5  March 29,2022  Maharashtra Cricket Association Stadium,Pune   \n",
            "\n",
            "       team1      team2  stage toss_winner toss_decision  first_ings_score  \\\n",
            "0    Chennai    Kolkata  Group     Kolkata         Field               131   \n",
            "1      Delhi     Mumbai  Group       Delhi         Field               177   \n",
            "2   Banglore     Punjab  Group      Punjab         Field               205   \n",
            "3    Gujarat    Lucknow  Group     Gujarat         Field               158   \n",
            "4  Hyderabad  Rajasthan  Group   Hyderabad         Field               210   \n",
            "\n",
            "   first_ings_wkts  second_ings_score  second_ings_wkts match_winner   won_by  \\\n",
            "0                5                133                 4      Kolkata  Wickets   \n",
            "1                5                179                 6        Delhi  Wickets   \n",
            "2                2                208                 5       Punjab  Wickets   \n",
            "3                6                161                 5      Gujarat  Wickets   \n",
            "4                6                149                 7    Rajasthan     Runs   \n",
            "\n",
            "   margin player_of_the_match      top_scorer  highscore      best_bowling  \\\n",
            "0       6         Umesh Yadav        MS Dhoni         50      Dwayne Bravo   \n",
            "1       4       Kuldeep Yadav    Ishan Kishan         81     Kuldeep Yadav   \n",
            "2       5         Odean Smith  Faf du Plessis         88    Mohammed Siraj   \n",
            "3       5      Mohammed Shami    Deepak Hooda         55    Mohammed Shami   \n",
            "4      61        Sanju Samson   Aiden Markram         57  Yuzvendra Chahal   \n",
            "\n",
            "  best_bowling_figure  \n",
            "0               3--20  \n",
            "1               3--18  \n",
            "2               2--59  \n",
            "3               3--25  \n",
            "4               3--22  \n"
          ]
        }
      ]
    },
    {
      "cell_type": "code",
      "source": [
        "print(df.info())"
      ],
      "metadata": {
        "colab": {
          "base_uri": "https://localhost:8080/"
        },
        "id": "nJv3B9YrrHtf",
        "outputId": "ececf997-e3da-4bb7-b169-5d4ff2b51896"
      },
      "execution_count": 11,
      "outputs": [
        {
          "output_type": "stream",
          "name": "stdout",
          "text": [
            "<class 'pandas.core.frame.DataFrame'>\n",
            "RangeIndex: 74 entries, 0 to 73\n",
            "Data columns (total 20 columns):\n",
            " #   Column               Non-Null Count  Dtype \n",
            "---  ------               --------------  ----- \n",
            " 0   match_id             74 non-null     int64 \n",
            " 1   date                 74 non-null     object\n",
            " 2   venue                74 non-null     object\n",
            " 3   team1                74 non-null     object\n",
            " 4   team2                74 non-null     object\n",
            " 5   stage                74 non-null     object\n",
            " 6   toss_winner          74 non-null     object\n",
            " 7   toss_decision        74 non-null     object\n",
            " 8   first_ings_score     74 non-null     int64 \n",
            " 9   first_ings_wkts      74 non-null     int64 \n",
            " 10  second_ings_score    74 non-null     int64 \n",
            " 11  second_ings_wkts     74 non-null     int64 \n",
            " 12  match_winner         74 non-null     object\n",
            " 13  won_by               74 non-null     object\n",
            " 14  margin               74 non-null     int64 \n",
            " 15  player_of_the_match  74 non-null     object\n",
            " 16  top_scorer           74 non-null     object\n",
            " 17  highscore            74 non-null     int64 \n",
            " 18  best_bowling         74 non-null     object\n",
            " 19  best_bowling_figure  74 non-null     object\n",
            "dtypes: int64(7), object(13)\n",
            "memory usage: 11.7+ KB\n",
            "None\n"
          ]
        }
      ]
    },
    {
      "cell_type": "code",
      "source": [
        "print(df.describe(include='all'))\n"
      ],
      "metadata": {
        "colab": {
          "base_uri": "https://localhost:8080/"
        },
        "id": "grvL6cXcrIhR",
        "outputId": "d60406b7-6adc-47ff-d8b6-39336264826d"
      },
      "execution_count": 12,
      "outputs": [
        {
          "output_type": "stream",
          "name": "stdout",
          "text": [
            "         match_id           date                     venue     team1  \\\n",
            "count   74.000000             74                        74        74   \n",
            "unique        NaN             62                         6         9   \n",
            "top           NaN  March 27,2022  Wankhede Stadium, Mumbai  Banglore   \n",
            "freq          NaN              2                        21        16   \n",
            "mean    37.500000            NaN                       NaN       NaN   \n",
            "std     21.505813            NaN                       NaN       NaN   \n",
            "min      1.000000            NaN                       NaN       NaN   \n",
            "25%     19.250000            NaN                       NaN       NaN   \n",
            "50%     37.500000            NaN                       NaN       NaN   \n",
            "75%     55.750000            NaN                       NaN       NaN   \n",
            "max     74.000000            NaN                       NaN       NaN   \n",
            "\n",
            "            team2  stage toss_winner toss_decision  first_ings_score  \\\n",
            "count          74     74          74            74         74.000000   \n",
            "unique          9      3          10             2               NaN   \n",
            "top     Rajasthan  Group   Hyderabad         Field               NaN   \n",
            "freq           17     70          10            59               NaN   \n",
            "mean          NaN    NaN         NaN           NaN        171.121622   \n",
            "std           NaN    NaN         NaN           NaN         29.048355   \n",
            "min           NaN    NaN         NaN           NaN         68.000000   \n",
            "25%           NaN    NaN         NaN           NaN        154.250000   \n",
            "50%           NaN    NaN         NaN           NaN        169.500000   \n",
            "75%           NaN    NaN         NaN           NaN        192.750000   \n",
            "max           NaN    NaN         NaN           NaN        222.000000   \n",
            "\n",
            "        first_ings_wkts  second_ings_score  second_ings_wkts match_winner  \\\n",
            "count         74.000000          74.000000         74.000000           74   \n",
            "unique              NaN                NaN               NaN           10   \n",
            "top                 NaN                NaN               NaN      Gujarat   \n",
            "freq                NaN                NaN               NaN           12   \n",
            "mean           6.135135         158.540541          6.175676          NaN   \n",
            "std            2.222699          29.299207          2.639832          NaN   \n",
            "min            0.000000          72.000000          1.000000          NaN   \n",
            "25%            5.000000         142.750000          4.000000          NaN   \n",
            "50%            6.000000         160.000000          6.000000          NaN   \n",
            "75%            8.000000         176.000000          8.000000          NaN   \n",
            "max           10.000000         211.000000         10.000000          NaN   \n",
            "\n",
            "         won_by     margin player_of_the_match   top_scorer   highscore  \\\n",
            "count        74  74.000000                  74           74   74.000000   \n",
            "unique        2        NaN                  56           37         NaN   \n",
            "top     Wickets        NaN       Kuldeep Yadav  Jos Buttler         NaN   \n",
            "freq         37        NaN                   4            7         NaN   \n",
            "mean        NaN  16.972973                 NaN          NaN   71.716216   \n",
            "std         NaN  19.651047                 NaN          NaN   20.705052   \n",
            "min         NaN   2.000000                 NaN          NaN   28.000000   \n",
            "25%         NaN   5.250000                 NaN          NaN   57.000000   \n",
            "50%         NaN   8.000000                 NaN          NaN   68.000000   \n",
            "75%         NaN  18.000000                 NaN          NaN   87.750000   \n",
            "max         NaN  91.000000                 NaN          NaN  140.000000   \n",
            "\n",
            "            best_bowling best_bowling_figure  \n",
            "count                 74                  74  \n",
            "unique                42                  51  \n",
            "top     Yuzvendra Chahal               3--22  \n",
            "freq                   5                   5  \n",
            "mean                 NaN                 NaN  \n",
            "std                  NaN                 NaN  \n",
            "min                  NaN                 NaN  \n",
            "25%                  NaN                 NaN  \n",
            "50%                  NaN                 NaN  \n",
            "75%                  NaN                 NaN  \n",
            "max                  NaN                 NaN  \n"
          ]
        }
      ]
    },
    {
      "cell_type": "code",
      "source": [
        "print(df.isnull().sum())"
      ],
      "metadata": {
        "colab": {
          "base_uri": "https://localhost:8080/"
        },
        "id": "vECG29sErMy2",
        "outputId": "d121cffa-8e71-46de-c275-bb36e121515b"
      },
      "execution_count": 13,
      "outputs": [
        {
          "output_type": "stream",
          "name": "stdout",
          "text": [
            "match_id               0\n",
            "date                   0\n",
            "venue                  0\n",
            "team1                  0\n",
            "team2                  0\n",
            "stage                  0\n",
            "toss_winner            0\n",
            "toss_decision          0\n",
            "first_ings_score       0\n",
            "first_ings_wkts        0\n",
            "second_ings_score      0\n",
            "second_ings_wkts       0\n",
            "match_winner           0\n",
            "won_by                 0\n",
            "margin                 0\n",
            "player_of_the_match    0\n",
            "top_scorer             0\n",
            "highscore              0\n",
            "best_bowling           0\n",
            "best_bowling_figure    0\n",
            "dtype: int64\n"
          ]
        }
      ]
    },
    {
      "cell_type": "code",
      "source": [
        "# Total Matches\n",
        "print(\"Total Matches:\", df.shape[0])\n",
        "\n",
        "# Wins by each team\n",
        "df['match_winner'].value_counts()\n"
      ],
      "metadata": {
        "colab": {
          "base_uri": "https://localhost:8080/",
          "height": 446
        },
        "id": "I4VlA2zErSwM",
        "outputId": "74855943-c0e0-4e49-9149-d0c05beacff5"
      },
      "execution_count": 15,
      "outputs": [
        {
          "output_type": "stream",
          "name": "stdout",
          "text": [
            "Total Matches: 74\n"
          ]
        },
        {
          "output_type": "execute_result",
          "data": {
            "text/plain": [
              "match_winner\n",
              "Gujarat      12\n",
              "Rajasthan    10\n",
              "Banglore      9\n",
              "Lucknow       9\n",
              "Punjab        7\n",
              "Delhi         7\n",
              "Kolkata       6\n",
              "Hyderabad     6\n",
              "Chennai       4\n",
              "Mumbai        4\n",
              "Name: count, dtype: int64"
            ],
            "text/html": [
              "<div>\n",
              "<style scoped>\n",
              "    .dataframe tbody tr th:only-of-type {\n",
              "        vertical-align: middle;\n",
              "    }\n",
              "\n",
              "    .dataframe tbody tr th {\n",
              "        vertical-align: top;\n",
              "    }\n",
              "\n",
              "    .dataframe thead th {\n",
              "        text-align: right;\n",
              "    }\n",
              "</style>\n",
              "<table border=\"1\" class=\"dataframe\">\n",
              "  <thead>\n",
              "    <tr style=\"text-align: right;\">\n",
              "      <th></th>\n",
              "      <th>count</th>\n",
              "    </tr>\n",
              "    <tr>\n",
              "      <th>match_winner</th>\n",
              "      <th></th>\n",
              "    </tr>\n",
              "  </thead>\n",
              "  <tbody>\n",
              "    <tr>\n",
              "      <th>Gujarat</th>\n",
              "      <td>12</td>\n",
              "    </tr>\n",
              "    <tr>\n",
              "      <th>Rajasthan</th>\n",
              "      <td>10</td>\n",
              "    </tr>\n",
              "    <tr>\n",
              "      <th>Banglore</th>\n",
              "      <td>9</td>\n",
              "    </tr>\n",
              "    <tr>\n",
              "      <th>Lucknow</th>\n",
              "      <td>9</td>\n",
              "    </tr>\n",
              "    <tr>\n",
              "      <th>Punjab</th>\n",
              "      <td>7</td>\n",
              "    </tr>\n",
              "    <tr>\n",
              "      <th>Delhi</th>\n",
              "      <td>7</td>\n",
              "    </tr>\n",
              "    <tr>\n",
              "      <th>Kolkata</th>\n",
              "      <td>6</td>\n",
              "    </tr>\n",
              "    <tr>\n",
              "      <th>Hyderabad</th>\n",
              "      <td>6</td>\n",
              "    </tr>\n",
              "    <tr>\n",
              "      <th>Chennai</th>\n",
              "      <td>4</td>\n",
              "    </tr>\n",
              "    <tr>\n",
              "      <th>Mumbai</th>\n",
              "      <td>4</td>\n",
              "    </tr>\n",
              "  </tbody>\n",
              "</table>\n",
              "</div><br><label><b>dtype:</b> int64</label>"
            ]
          },
          "metadata": {},
          "execution_count": 15
        }
      ]
    },
    {
      "cell_type": "code",
      "source": [
        "# Toss decision counts\n",
        "toss_counts = df['toss_decision'].value_counts()\n",
        "print(\"Toss Decision Counts:\")\n",
        "print(toss_counts)\n",
        "print()\n",
        "\n",
        "# Toss decision percentages\n",
        "toss_percent = (toss_counts / toss_counts.sum()) * 100\n",
        "print(\"Toss Decision Percentages:\")\n",
        "print(toss_percent.round(2))\n",
        "print()\n"
      ],
      "metadata": {
        "colab": {
          "base_uri": "https://localhost:8080/"
        },
        "id": "Pia6Tarwrouf",
        "outputId": "704d01df-e1c1-4bf6-d523-dd92bf6449ac"
      },
      "execution_count": 18,
      "outputs": [
        {
          "output_type": "stream",
          "name": "stdout",
          "text": [
            "Toss Decision Counts:\n",
            "toss_decision\n",
            "Field    59\n",
            "Bat      15\n",
            "Name: count, dtype: int64\n",
            "\n",
            "Toss Decision Percentages:\n",
            "toss_decision\n",
            "Field    79.73\n",
            "Bat      20.27\n",
            "Name: count, dtype: float64\n",
            "\n"
          ]
        }
      ]
    },
    {
      "cell_type": "code",
      "source": [
        "# Matches where toss winner also won\n",
        "toss_effect = df[df['toss_winner'] == df['match_winner']]\n",
        "total_matches = df.shape[0]\n",
        "matches_toss_win_equals_match_win = toss_effect.shape[0]\n",
        "\n",
        "print(f\"Matches where toss winner also won: {matches_toss_win_equals_match_win} \"\n",
        "      f\"({(matches_toss_win_equals_match_win / total_matches) * 100:.2f}%)\")\n"
      ],
      "metadata": {
        "colab": {
          "base_uri": "https://localhost:8080/"
        },
        "id": "3XcbaQHosOwq",
        "outputId": "cf4e44b2-949b-4ab1-b4c7-665564ff62a4"
      },
      "execution_count": 19,
      "outputs": [
        {
          "output_type": "stream",
          "name": "stdout",
          "text": [
            "Matches where toss winner also won: 36 (48.65%)\n"
          ]
        }
      ]
    },
    {
      "cell_type": "code",
      "source": [
        "# Distribution of win margins\n",
        "\n",
        "df_runs = df[df['won_by'] == 'Runs']\n",
        "df_wickets = df[df['won_by'] == 'Wickets']\n",
        "\n",
        "plt.figure(figsize=(12, 5))\n",
        "plt.subplot(1, 2, 1)\n",
        "sns.histplot(df_runs['margin'], bins=15, kde=True, color='red')\n",
        "plt.title(\"Matches Won by Runs\")\n",
        "\n",
        "plt.subplot(1, 2, 2)\n",
        "sns.histplot(df_wickets['margin'], bins=9, kde=True, color='green')\n",
        "plt.title(\"Matches Won by Wickets\")\n",
        "plt.show()\n",
        "\n"
      ],
      "metadata": {
        "colab": {
          "base_uri": "https://localhost:8080/",
          "height": 317
        },
        "id": "_-VDFru8shYJ",
        "outputId": "a90c1691-d48b-427e-ff59-58e1d34d1f05"
      },
      "execution_count": 29,
      "outputs": [
        {
          "output_type": "display_data",
          "data": {
            "text/plain": [
              "<Figure size 1200x500 with 2 Axes>"
            ],
            "image/png": "[encoded data removed]"
          },
          "metadata": {}
        }
      ]
    },
    {
      "cell_type": "code",
      "source": [
        "# topper players\n",
        "top_players = df['player_of_the_match'].value_counts().head(10)\n",
        "\n",
        "print(\"Top 10 Players of the Match Awards:\")\n",
        "for player, count in top_players.items():\n",
        "    print(f\"{player}: {count} times\")\n"
      ],
      "metadata": {
        "colab": {
          "base_uri": "https://localhost:8080/"
        },
        "id": "ol2k5FqYsw25",
        "outputId": "e37320a5-db59-47a2-8dbc-2a5cfe2a273b"
      },
      "execution_count": 23,
      "outputs": [
        {
          "output_type": "stream",
          "name": "stdout",
          "text": [
            "Top 10 Players of the Match Awards:\n",
            "Kuldeep Yadav: 4 times\n",
            "Jos Buttler: 3 times\n",
            "Wanindu Hasaranga: 2 times\n",
            "Umesh Yadav: 2 times\n",
            "Quinton de Kock: 2 times\n",
            "Shubman Gill: 2 times\n",
            "Avesh Khan: 2 times\n",
            "Dinesh Karthik: 2 times\n",
            "Hardik Pandya: 2 times\n",
            "Rahul Tripathi: 2 times\n"
          ]
        }
      ]
    },
    {
      "cell_type": "code",
      "source": [
        "# Indiviual scores of top players\n",
        "top_scores = df.groupby('top_scorer')['highscore'].max().sort_values(ascending=False).head(10)\n",
        "\n",
        "print(\"Top 10 Individual Scores:\")\n",
        "for player, score in top_scores.items():\n",
        "    print(f\"{player}: {score} runs\")\n"
      ],
      "metadata": {
        "colab": {
          "base_uri": "https://localhost:8080/"
        },
        "id": "5iajIKM9tKmt",
        "outputId": "9569bdc7-cb5e-40da-e37c-c23b0a08f9b7"
      },
      "execution_count": 24,
      "outputs": [
        {
          "output_type": "stream",
          "name": "stdout",
          "text": [
            "Top 10 Individual Scores:\n",
            "Quinton de Kock: 140 runs\n",
            "Jos Buttler: 116 runs\n",
            "Rajat Patidar: 112 runs\n",
            "KL Rahul: 103 runs\n",
            "Ruturaj Gaikwad: 99 runs\n",
            "Faf du Plessis: 96 runs\n",
            "Shubman Gill: 96 runs\n",
            "Shivam Dube: 95 runs\n",
            "David Miller: 94 runs\n",
            "Moeen Ali: 93 runs\n"
          ]
        }
      ]
    },
    {
      "cell_type": "code",
      "source": [
        "# top bowlers\n",
        "df[['wickets_taken', 'runs_given']] = df['best_bowling_figure'].str.split('--', expand=True)\n",
        "\n",
        "df['wickets_taken'] = df['wickets_taken'].astype(int)\n",
        "df['runs_given'] = df['runs_given'].astype(int)\n",
        "\n",
        "top_bowling = df[['best_bowling', 'wickets_taken']].sort_values(by='wickets_taken', ascending=False).drop_duplicates().head(10)\n",
        "\n",
        "print(\"Top 10 Best Bowling Figures:\")\n",
        "for index, row in top_bowling.iterrows():\n",
        "    print(f\"{row['best_bowling']}: {row['wickets_taken']} wickets\")\n"
      ],
      "metadata": {
        "colab": {
          "base_uri": "https://localhost:8080/"
        },
        "id": "3oiuO748tgHi",
        "outputId": "21ad01e4-cf12-4cee-d87f-6e5f035089e3"
      },
      "execution_count": 27,
      "outputs": [
        {
          "output_type": "stream",
          "name": "stdout",
          "text": [
            "Top 10 Best Bowling Figures:\n",
            "Yuzvendra Chahal: 5 wickets\n",
            "Umran Malik: 5 wickets\n",
            "Jasprit Bumrah: 5 wickets\n",
            "Wanindu Hasaranga: 5 wickets\n",
            "Daniel Sams: 4 wickets\n",
            "Odean Smith: 4 wickets\n",
            "Lockie Ferguson: 4 wickets\n",
            "Avesh Khan: 4 wickets\n",
            "Umesh Yadav: 4 wickets\n",
            "Wanindu Hasaranga: 4 wickets\n"
          ]
        }
      ]
    },
    {
      "cell_type": "code",
      "source": [
        "# saving EDA data\n",
        "df.to_csv(\"ipl_2022_cleaned.csv\", index=False)"
      ],
      "metadata": {
        "id": "hX_OVezCuhpb"
      },
      "execution_count": 28,
      "outputs": []
    },
    {
      "cell_type": "code",
      "source": [
        "\n",
        "# Count how many times each team appears in team1 and team2\n",
        "team_counts = df['team1'].value_counts() + df['team2'].value_counts()\n",
        "\n",
        "# Sort values for better visualization\n",
        "team_counts = team_counts.sort_values(ascending=False)\n",
        "\n",
        "# Plot\n",
        "plt.figure(figsize=(10, 6))\n",
        "team_counts.plot(kind='bar', color='skyblue', edgecolor='black')\n",
        "plt.title('Number of Matches Played by Each Team')\n",
        "plt.xlabel('Team')\n",
        "plt.ylabel('Number of Matches')\n",
        "plt.xticks(rotation=45)\n",
        "plt.tight_layout()\n",
        "plt.show()\n",
        "\n",
        "\n"
      ],
      "metadata": {
        "colab": {
          "base_uri": "https://localhost:8080/",
          "height": 393
        },
        "id": "ttu2uYR3zX1j",
        "outputId": "21702b1e-8f4b-45a1-8f23-7dfe3c5f06de"
      },
      "execution_count": 31,
      "outputs": [
        {
          "output_type": "display_data",
          "data": {
            "text/plain": [
              "<Figure size 1000x600 with 1 Axes>"
            ],
            "image/png": "[encoded data removed]"
          },
          "metadata": {}
        }
      ]
    }
  ]
}